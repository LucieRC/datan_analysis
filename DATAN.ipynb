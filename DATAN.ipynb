{
 "cells": [
  {
   "cell_type": "markdown",
   "metadata": {},
   "source": [
    "# Scraping et formatage des données DATAN\n",
    "\n",
    "<div style=\"text-align: right\"> André Mounier </div>\n",
    "\n",
    "---\n",
    "Application sur les données DATAN"
   ]
  },
  {
   "cell_type": "code",
   "execution_count": 1,
   "metadata": {},
   "outputs": [],
   "source": [
    "import os\n",
    "import pandas as pd\n",
    "import tqdm\n",
    "from pathlib import Path\n",
    "import numpy as np\n",
    "from collections import Counter"
   ]
  },
  {
   "cell_type": "markdown",
   "metadata": {},
   "source": [
    "### Liste des votes"
   ]
  },
  {
   "cell_type": "code",
   "execution_count": 3,
   "metadata": {},
   "outputs": [],
   "source": [
    "df_allvotes = pd.read_html('https://datan.fr/votes/legislature-16')[0]\n",
    "df_allvotes = df_allvotes.set_index('N°')"
   ]
  },
  {
   "cell_type": "code",
   "execution_count": 4,
   "metadata": {},
   "outputs": [
    {
     "data": {
      "text/plain": [
       "Date                                               27-10-2022\n",
       "Titre       L'amendement n° 1882 de M. Schreck à l'article...\n",
       "Résultat                                               REJETÉ\n",
       "Name: 403, dtype: object"
      ]
     },
     "execution_count": 4,
     "metadata": {},
     "output_type": "execute_result"
    }
   ],
   "source": [
    "df_allvotes.iloc[3702]"
   ]
  },
  {
   "cell_type": "markdown",
   "metadata": {
    "tags": []
   },
   "source": [
    "### Tests de récupération des détails des votants (groupes et parlementaires)"
   ]
  },
  {
   "cell_type": "code",
   "execution_count": 5,
   "metadata": {},
   "outputs": [],
   "source": [
    "vote_number = 403"
   ]
  },
  {
   "cell_type": "code",
   "execution_count": 6,
   "metadata": {
    "tags": []
   },
   "outputs": [],
   "source": [
    "vote_infos = pd.read_html('https://datan.fr/votes/legislature-16/vote_{}'.format(vote_number))\n",
    "df_desc, _, df_groups, df_deputees = vote_infos[:4]\n",
    "# df_deputees"
   ]
  },
  {
   "cell_type": "markdown",
   "metadata": {},
   "source": [
    "### Création d'un unique tableau de données"
   ]
  },
  {
   "cell_type": "code",
   "execution_count": 7,
   "metadata": {},
   "outputs": [],
   "source": [
    "output_path = os.path.join('output','DATAN')\n",
    "Path(output_path).mkdir(parents=True, exist_ok=True)"
   ]
  },
  {
   "cell_type": "code",
   "execution_count": 8,
   "metadata": {
    "tags": []
   },
   "outputs": [],
   "source": [
    "dict_group = {'ni':'Non inscrit (NI)',\n",
    "              'dem':'Démocrate (MoDem et Indépendants) (DEM)',\n",
    "              'lfi-nupes':'La France insoumise - NUPES (LFI-NUPES)',\n",
    "              'soc-a':'Socialistes et apparentés - NUPES (SOC)',\n",
    "              'gdr-nupes':'Gauche démocrate et républicaine - NUPES (GDR-NUPES)',\n",
    "              'lr':'Les Républicains (LR)',\n",
    "              'hor':'Horizons et apparentés (HOR)',\n",
    "              'rn':'Rassemblement National (RN)',\n",
    "              'ecolo':'Écologiste - NUPES (ECOLO)',\n",
    "              'liot':'Libertés, Indépendants, Outre-mer et Territoires (LIOT)',\n",
    "              're':'Renaissance (RE)'}"
   ]
  },
  {
   "cell_type": "code",
   "execution_count": 11,
   "metadata": {
    "tags": []
   },
   "outputs": [],
   "source": [
    "if 'datan.csv' not in os.listdir(output_path):\n",
    "\n",
    "    # initilisation des colonnes du tableau de sortie\n",
    "    columns = {'vote':[],'date':[],'type':[],'dossier':[]}\n",
    "    for group in dict_group.keys():\n",
    "        columns['{}_nb-pour'.format(group)] = []\n",
    "        columns['{}_nb-contre'.format(group)] = []\n",
    "        columns['{}_nb-abstention'.format(group)] = []\n",
    "        columns['{}_participation'.format(group)] = []\n",
    "    \n",
    "    # construction du tableau\n",
    "    for vote in tqdm.tqdm(df_allvotes.index):\n",
    "        vote_infos = pd.read_html('https://datan.fr/votes/legislature-16/vote_{}'.format(vote))\n",
    "        df_desc, _, df_groups, df_deputees = vote_infos[:4]\n",
    "        \n",
    "        # formatage du tableau des votes de groupe\n",
    "        df_groups_formatted = df_groups.set_index('Groupe')\n",
    "        \n",
    "        # formatage du tableau descriptif du vote\n",
    "        df_desc_formatted = df_desc.T\n",
    "        df_desc_formatted = df_desc_formatted.rename(columns={i:n for i,n in enumerate(df_desc_formatted.iloc[1])})\n",
    "        df_desc_formatted\n",
    "        \n",
    "        # ajout de la date\n",
    "        try:\n",
    "            date = df_desc_formatted['Date'].values[-1]\n",
    "        except KeyError:\n",
    "            date = np.nan\n",
    "        \n",
    "        # ajout du type de vote \n",
    "        try:\n",
    "            type_vote = df_desc_formatted['Type de vote'].values[-1]\n",
    "        except KeyError:\n",
    "            type_vote = np.nan\n",
    "            \n",
    "        # ajout du dossier\n",
    "        try:\n",
    "            dossier = df_desc_formatted['Dossier'].values[-1]\n",
    "        except KeyError:\n",
    "            dossier = np.nan\n",
    "            \n",
    "        columns['vote'].append(vote)\n",
    "        columns['date'].append(date)\n",
    "        columns['type'].append(type_vote)\n",
    "        columns['dossier'].append(dossier)\n",
    "        \n",
    "        # ajout des statistiques de votes par groupe parlementaire\n",
    "        for group, group_name in dict_group.items():\n",
    "            filter_group = df_groups_formatted.index.str.startswith(group_name[:10])\n",
    "            df_group = df_groups_formatted.loc[filter_group]\n",
    "            nb_pour, nb_contre, nb_abstention, ratio_particip = df_group[['Pour','Contre','Abstention','Participation']].values[0]\n",
    "            ratio_particip = float(ratio_particip.replace('%',''))/100\n",
    "            \n",
    "            columns['{}_nb-pour'.format(group)].append(nb_pour)\n",
    "            columns['{}_nb-contre'.format(group)].append(nb_contre)\n",
    "            columns['{}_nb-abstention'.format(group)].append(nb_abstention)\n",
    "            columns['{}_participation'.format(group)].append(ratio_particip)\n",
    "\n",
    "    # sauvegarde\n",
    "    datan = pd.DataFrame().from_dict(columns)\n",
    "    datan.to_csv(os.path.join(output_path,'datan.csv'),index=False)"
   ]
  },
  {
   "cell_type": "markdown",
   "metadata": {},
   "source": [
    "### Ouverture et manipulation du jeu de données"
   ]
  },
  {
   "cell_type": "code",
   "execution_count": 13,
   "metadata": {
    "tags": []
   },
   "outputs": [],
   "source": [
    "datan = pd.read_csv(os.path.join(output_path,'datan.csv'))"
   ]
  },
  {
   "cell_type": "code",
   "execution_count": 15,
   "metadata": {
    "tags": []
   },
   "outputs": [
    {
     "name": "stdout",
     "output_type": "stream",
     "text": [
      "138\n"
     ]
    },
    {
     "data": {
      "text/plain": [
       "{'Accompagnement des malades et fin de vie': 123,\n",
       " \"Proposition de loi visant à poursuivre la dématérialisation de l'état civil du ministère de l'Europe et des affaires étrangères\": 1,\n",
       " 'Prévenir les ingérences étrangères en France': 23,\n",
       " \"Prise en charge intégrale des soins liés au traitement du cancer du sein par l'assurance maladie\": 4,\n",
       " \"Meilleure réussite scolaire des jeunes ultramarins grâce à l'apprentissage des langues régionales\": 2,\n",
       " 'Constitutionnaliser la sécurité sociale': 2,\n",
       " 'Souveraineté en matière agricole et renouvellement des générations en agriculture': 108,\n",
       " 'Assurer une justice patrimoniale au sein de la famille': 2,\n",
       " 'Projet de loi constitutionnelle portant modification du corps électoral pour les élections au congrès et aux assemblées de province de la Nouvelle-Calédonie': 9,\n",
       " \"Améliorant l'efficacité des dispositifs de saisie et de confiscation des avoirs criminels\": 7,\n",
       " 'Proposition de loi visant à améliorer le repérage et l’accompagnement des personnes présentant des troubles du neuro-développement et à favoriser le répit des proches aidants': 4,\n",
       " 'Usage de la langue française aux Jeux Olympiques et paralympiques de Paris en 2024': 1,\n",
       " 'Situation des mineurs dans les industries du cinéma, du spectacle vivant et de la mode': 1,\n",
       " 'Confidentialité des consultations des juristes d’entreprise': 7,\n",
       " 'Reconnaissance et condamnation des persécutions des Assyro-Chaldéens de 1915 comme génocide': 1,\n",
       " 'Projet de loi visant à sécuriser et réguler l’espace numérique': 124,\n",
       " 'Projet de loi visant à renforcer la lutte contre les dérives sectaires': 31,\n",
       " 'Projet de loi organique modifiant la loi organique n° 2010-837 du 23 juillet 2010 relative à l’application du cinquième alinéa de l’article 13 de la Constitution': 3,\n",
       " 'Soutenir l’engagement bénévole et simplifier la vie associative': 10,\n",
       " 'Adapter le droit de la responsabilité civile aux enjeux actuels': 3,\n",
       " 'Garantir un revenu digne aux agriculteurs et accompagner la transition agricole': 10,\n",
       " 'Reconnaître et sanctionner la discrimination capillaire': 1,\n",
       " 'Proposition de loi visant à favoriser le réemploi des véhicules, au service des mobilités durables et solidaires sur les territoires': 5,\n",
       " 'Reconnaître le bénévolat de sécurité civile': 29,\n",
       " \"Proposition de loi tendant à tenir compte de la capacité contributive des collectivités territoriales dans l'attribution des subventions et dotations destinées aux investissements relatifs à la transition écologique des bâtiments scolaires\": 4,\n",
       " 'Mesures pour bâtir la société du bien vieillir en France': 67,\n",
       " 'Projet de loi organique portant report du renouvellement général des membres du congrès et des assemblées de province de la Nouvelle-Calédonie': 4,\n",
       " 'Renforcer la sécurité des professionnels de santé': 4,\n",
       " 'Garantir le versement des pensions alimentaires aux enfants majeurs': 1,\n",
       " 'Mieux protéger et accompagner les enfants victimes et co-victimes de violences intrafamiliales': 8,\n",
       " 'Proposition de loi renforçant la sécurité des élus locaux et la protection des maires': 15,\n",
       " 'Faciliter la transformation des bureaux en logements': 9,\n",
       " 'Renforcer la réponse pénale contre les infractions à caractère raciste ou antisémite': 20,\n",
       " 'Lutte contre les pénuries de médicaments': 6,\n",
       " 'Réduire et encadrer les frais bancaires sur succession': 3,\n",
       " 'Reconnaître la responsabilité de l’État et indemniser les victimes du chlordécone': 8,\n",
       " 'Proposition de loi visant à la nationalisation du groupe Électricité de France': 27,\n",
       " 'Faciliter la mise à disposition aux régions du réseau routier national non concédé': 2,\n",
       " \"Garantir le respect du droit à l'image des enfants\": 7,\n",
       " 'Relancer l’organisation des classes de découverte': 1,\n",
       " \"Proposition de loi encadrant l'intervention des cabinets de conseil privés dans les politiques publiques\": 27,\n",
       " \"Création d'un homicide routier et visant à lutter contre la violence routière\": 7,\n",
       " 'Liberté de recourir à l’interruption volontaire de grossesse': 3,\n",
       " 'Reconnaître les métiers de la médiation sociale': 27,\n",
       " 'Remédier aux déséquilibres du marché locatif en zone tendue': 50,\n",
       " 'Généralisation du contrat à durée indéterminée à des fins d’employabilité': 2,\n",
       " 'Revaloriser le métier de secrétaire de mairie': 16,\n",
       " 'Projet de loi pour contrôler l’immigration, améliorer l’intégration': 3,\n",
       " 'Ratification du Traité d’entraide judiciaire en matière pénale entre la République française et la République du Kazakhstan': 1,\n",
       " 'Approbation des conventions entre la France et le Danemark et entre la France et la Grèce pour l’élimination de la double imposition en matière d’impôts sur le revenu et la prévention de l’évasion et de la fraude fiscales': 1,\n",
       " \"Améliorer l'accès aux soins par l'engagement territorial des professionnels\": 38,\n",
       " \"Proposition de loi relative à l'ouverture à la concurrence du réseau de bus francilien de la RATP\": 22,\n",
       " 'Rendre effectifs les soins palliatifs sur tout le territoire national': 1,\n",
       " \"Améliorer l'accès aux soins par la territorialisation et la formation\": 7,\n",
       " 'Souveraineté de la France, nationalité, immigration et asile': 11,\n",
       " 'Dénonciation, par les autorités françaises, de l’accord franco-algérien du 27 décembre 1968': 1,\n",
       " 'Lutte contre les discriminations par la pratique de tests individuels et statistiques': 8,\n",
       " \"Assurer la pérennité des établissements de spectacles cinématographiques et l'accès au cinéma dans les outre-mer\": 1,\n",
       " 'Réduire les inégalités territoriales pour les ouvertures de casinos': 1,\n",
       " 'Interdire les dispositifs électroniques de vapotage à usage unique': 1,\n",
       " 'Contentieux du stationnement payant': 8,\n",
       " 'Réouverture des accueils physiques dans les services publics': 13,\n",
       " 'Instaurer un moratoire sur le déploiement des méga-bassines': 1,\n",
       " 'Les suites de la conférence sur l’avenir de l’Europe': 29,\n",
       " 'Faire respecter le droit international dans le secours des migrants en mer Méditerranée': 1,\n",
       " 'Transposition de l’accord national interprofessionnel relatif au partage de la valeur au sein de l’entreprise': 109,\n",
       " \"Prévisibilité de l'organisation des services de la navigation aérienne en cas de mouvement social et à l'adéquation entre l'ampleur de la grève et la réduction du trafic\": 5,\n",
       " 'Services express régionaux métropolitains': 37,\n",
       " 'Mesures d’urgence pour adapter les dispositions du code de commerce relatives aux négociations commerciales dans la grande distribution': 2,\n",
       " 'Pour le plein emploi': 125,\n",
       " 'Proposition de loi visant à baisser la facture énergétique des Français et des entreprises sur le territoire': 2,\n",
       " \"Soutenir les femmes qui souffrent d'endométriose\": 5,\n",
       " 'Orientation et programmation du ministère de la justice 2023-2027': 203,\n",
       " \"L'industrie verte\": 141,\n",
       " 'Projet de loi relatif à l’accélération de la reconstruction et de la réfection des bâtiments dégradés ou détruits au cours des violences urbaines survenues du 27 juin au 5 juillet 2023': 31,\n",
       " 'Lutter contre le dumping social sur le Transmanche': 15,\n",
       " 'Accords entre la France et le Sénégal du 7 septembre 2021 et entre la France et le Sri Lanka du 23 février 2022': 1,\n",
       " 'Projet de loi autorisant la ratification du Protocole du 30 avril 2010 à la Convention internationale de 1996 sur la responsabilité et l’indemnisation pour les dommages liés au transport par mer de substances nocives et potentiellement dangereuses': 1,\n",
       " 'Proposition de loi visant à faciliter la mise en oeuvre des objectifs de « zéro artificialisation nette » au coeur des territoires': 54,\n",
       " 'Programmation militaire pour les années 2024 à 2030 et diverses dispositions intéressant la défense': 161,\n",
       " 'Renforcer la protection des familles d’enfants touchés par une affection de longue durée': 7,\n",
       " \"Proposition de loi visant à renforcer l'accès des femmes aux responsabilités dans la fonction publique\": 16,\n",
       " 'Donner à la douane les moyens de faire face aux nouvelles menaces': 48,\n",
       " 'Maintenir provisoirement un dispositif de plafonnement de revalorisation de la variation annuelle des indices locatifs': 27,\n",
       " \"Proposition de loi visant à renforcer la prévention et la lutte contre l'intensification et l'extension du risque incendie\": 83,\n",
       " 'Instaurer une majorité numérique et à lutter contre la haine en ligne': 4,\n",
       " 'Favoriser l’accompagnement psychologique des femmes victimes de fausse couche': 12,\n",
       " 'Proposition de loi tendant à garantir la continuité de la représentation des communes au sein des conseils communautaires': 1,\n",
       " \"Accord commercial entre l'Union européenne et le Mercosur\": 1,\n",
       " 'Faciliter le passage et l’obtention de l’examen du permis de conduire': 5,\n",
       " 'Proposition de loi visant à permettre une gestion différenciée de la compétence \"Eau et Assainissement\"': 2,\n",
       " \"Approbation des comptes de la sécurité sociale pour l'année 2022\": 6,\n",
       " \"Règlement du budget et approbation des comptes de l'année 2022\": 1,\n",
       " \"Règlement du budget et approbation des comptes de l'année 2021\": 1,\n",
       " 'Lutte contre les arnaques et les dérives des influenceurs sur les réseaux sociaux': 21,\n",
       " 'Projet de loi relatif à l’accélération des procédures liées à la construction de nouvelles installations nucléaires à proximité de sites nucléaires existants et au fonctionnement des installations existantes': 86,\n",
       " 'Lutter contre les sur-transpositions en matière agricole': 1,\n",
       " 'Rendre obligatoire le pavoisement des drapeaux français et européen sur le fronton des mairies': 13,\n",
       " \"Abrogation de l'obligation vaccinale contre la covid-19 dans les secteurs médicaux, paramédicaux et d'aide à la personne et visant à la réintégration des professionnels et étudiants suspendus\": 6,\n",
       " 'Fusion des filières à responsabilité élargie des producteurs d’emballages ménagers et des producteurs de papier': 9,\n",
       " 'Projet de loi relatif aux jeux Olympiques et Paralympiques de 2024': 53,\n",
       " 'Interdire les vols en jets privés': 5,\n",
       " 'Mieux indemniser les dégâts sur les biens immobiliers causés par le retrait-gonflement de l’argile': 15,\n",
       " 'Protéger les logements contre l’occupation illicite': 45,\n",
       " 'Encadrement des centres de santé': 2,\n",
       " \"Sécuriser l'approvisionnement des Français en produits de grande consommation\": 21,\n",
       " \"Approbation du premier amendement et du protocole à la convention d'Espoo\": 1,\n",
       " 'Régime juridique des actions de groupe': 3,\n",
       " \"Prévention de l'exposition excessive des enfants aux écrans\": 19,\n",
       " 'Mieux lutter contre la récidive': 7,\n",
       " \"Projet de loi portant diverses dispositions d'adaptation au droit de l'Union européenne dans les domaines de l’économie, de la santé, du travail, des transports et de l’agriculture\": 13,\n",
       " 'Convention d’entraide judiciaire en matière pénale entre le Gouvernement de la République française et le Gouvernement de la République du Sénégal, et de la convention d’extradition entre le Gouvernement de la République du Sénégal': 1,\n",
       " 'Projet de loi relatif à l’accélération de la production d’énergies renouvelables': 160,\n",
       " \"Limiter l'engrillagement des espaces naturels et protéger la propriété privée\": 4,\n",
       " 'Proposition de loi sur le déroulement des élections sénatoriales': 1,\n",
       " 'Amélioration de l’accès aux soins par la confiance aux professionnels de santé': 13,\n",
       " 'Proposition de législation européenne sur la liberté des médias': 2,\n",
       " 'Faire évoluer la formation de sage-femme': 1,\n",
       " \"Interdire la maltraitance sur les animaux de compagnie par l'utilisation de colliers étrangleurs et électriques\": 1,\n",
       " \"Proposition de loi créant une aide universelle d'urgence pour les victimes de violences conjugales\": 6,\n",
       " 'Etendre le droit de visite des parlementaires et parlementaires européens élus en France aux établissements sociaux et médico sociaux': 1,\n",
       " 'Suppression des zones à faibles émissions mobilité': 2,\n",
       " 'Création d’une juridiction spécialisée aux violences intrafamiliales': 1,\n",
       " 'Calculer la retraite de base des non-salariés agricoles en fonction de leurs seules vingt-cinq meilleures années de revenus': 1,\n",
       " 'Appeler à un accord ambitieux lors de la quinzième conférence des parties à la convention sur la diversité biologique': 1,\n",
       " 'Soutien au mouvement pour la liberté du peuple iranien': 1,\n",
       " 'Réintégrer le personnel des établissements de santé et de secours non-vacciné grâce à un protocole sanitaire renforcé': 2,\n",
       " 'Protéger et garantir le droit fondamental à l’interruption volontaire de grossesse et à la contraception': 5,\n",
       " 'Projet de loi d’orientation et de programmation du ministère de l’intérieur': 56,\n",
       " 'Mesures d’urgence relatives au fonctionnement du marché du travail en vue du plein emploi': 34,\n",
       " 'Proposition de loi visant à accompagner la mise en place de comités sociaux et économiques à La Poste': 3,\n",
       " 'Charge fiscale de la pension alimentaire': 1,\n",
       " 'Lutte contre les plastiques dangereux pour l’environnement et la santé': 2,\n",
       " \"Règlement du budget et d'approbation des comptes de l'année 2021\": 3,\n",
       " 'Mesures d’urgence pour la protection du pouvoir d’achat': 67,\n",
       " 'Ratification du traité entre la République française et la République italienne pour une coopération bilatérale renforcée': 1,\n",
       " \"Diverses dispositions d'adaptation au droit de l'Union européenne en matière de prévention de la diffusion de contenus à caractère terroriste en ligne\": 1,\n",
       " \"Maintien provisoire d'un dispositif de veille et de sécurité sanitaire en matière de lutte contre la covid-19\": 15}"
      ]
     },
     "execution_count": 15,
     "metadata": {},
     "output_type": "execute_result"
    }
   ],
   "source": [
    "counter_dict = dict(Counter(datan.dossier))\n",
    "\n",
    "# exclusion des sans dossiers et des projets de lois de finances\n",
    "counter_dict = {k:v for k,v in counter_dict.items() if not any([e in str(k).lower() for e in ['finances','nan']])}\n",
    "\n",
    "print(len(counter_dict))\n",
    "\n",
    "counter_dict"
   ]
  },
  {
   "cell_type": "code",
   "execution_count": null,
   "metadata": {
    "tags": []
   },
   "outputs": [],
   "source": []
  },
  {
   "cell_type": "code",
   "execution_count": null,
   "metadata": {},
   "outputs": [],
   "source": []
  }
 ],
 "metadata": {
  "kernelspec": {
   "display_name": "Python 3 (ipykernel)",
   "language": "python",
   "name": "python3"
  },
  "language_info": {
   "codemirror_mode": {
    "name": "ipython",
    "version": 3
   },
   "file_extension": ".py",
   "mimetype": "text/x-python",
   "name": "python",
   "nbconvert_exporter": "python",
   "pygments_lexer": "ipython3",
   "version": "3.12.3"
  }
 },
 "nbformat": 4,
 "nbformat_minor": 4
}
