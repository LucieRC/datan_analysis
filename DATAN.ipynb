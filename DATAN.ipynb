{
 "cells": [
  {
   "cell_type": "markdown",
   "metadata": {},
   "source": [
    "# Scraping et formatage des données DATAN\n",
    "\n",
    "<div style=\"text-align: right\"> André Mounier </div>\n",
    "\n",
    "---\n",
    "Application sur les données DATAN"
   ]
  },
  {
   "cell_type": "code",
   "execution_count": 50,
   "metadata": {},
   "outputs": [],
   "source": [
    "import os\n",
    "import pandas as pd\n",
    "import tqdm\n",
    "from pathlib import Path\n",
    "import numpy as np\n",
    "from collections import Counter\n",
    "import matplotlib.pyplot as plt\n",
    "from textwrap import wrap\n",
    "from matplotlib.offsetbox import OffsetImage, AnnotationBbox"
   ]
  },
  {
   "cell_type": "markdown",
   "metadata": {},
   "source": [
    "### Liste des votes"
   ]
  },
  {
   "cell_type": "code",
   "execution_count": 2,
   "metadata": {},
   "outputs": [],
   "source": [
    "df_allvotes = pd.read_html('https://datan.fr/votes/legislature-16')[0]\n",
    "df_allvotes = df_allvotes.set_index('N°')"
   ]
  },
  {
   "cell_type": "code",
   "execution_count": 3,
   "metadata": {},
   "outputs": [
    {
     "data": {
      "text/plain": [
       "Date                                               27-10-2022\n",
       "Titre       L'amendement n° 1882 de M. Schreck à l'article...\n",
       "Résultat                                               REJETÉ\n",
       "Name: 403, dtype: object"
      ]
     },
     "execution_count": 3,
     "metadata": {},
     "output_type": "execute_result"
    }
   ],
   "source": [
    "df_allvotes.iloc[3702]"
   ]
  },
  {
   "cell_type": "markdown",
   "metadata": {
    "tags": []
   },
   "source": [
    "### Tests de récupération des détails des votants (groupes et parlementaires)"
   ]
  },
  {
   "cell_type": "code",
   "execution_count": 4,
   "metadata": {},
   "outputs": [],
   "source": [
    "vote_number = 403"
   ]
  },
  {
   "cell_type": "code",
   "execution_count": 5,
   "metadata": {
    "tags": []
   },
   "outputs": [],
   "source": [
    "vote_infos = pd.read_html('https://datan.fr/votes/legislature-16/vote_{}'.format(vote_number))\n",
    "df_desc, _, df_groups, df_deputees = vote_infos[:4]\n",
    "# df_deputees"
   ]
  },
  {
   "cell_type": "markdown",
   "metadata": {},
   "source": [
    "### Création d'un unique tableau de données"
   ]
  },
  {
   "cell_type": "code",
   "execution_count": 6,
   "metadata": {},
   "outputs": [],
   "source": [
    "output_path = os.path.join('output','DATAN')\n",
    "Path(output_path).mkdir(parents=True, exist_ok=True)"
   ]
  },
  {
   "cell_type": "code",
   "execution_count": 7,
   "metadata": {
    "tags": []
   },
   "outputs": [],
   "source": [
    "dict_group = {'ni':'Non inscrit (NI)',\n",
    "              'dem':'Démocrate (MoDem et Indépendants) (DEM)',\n",
    "              'lfi-nupes':'La France insoumise - NUPES (LFI-NUPES)',\n",
    "              'soc-a':'Socialistes et apparentés - NUPES (SOC)',\n",
    "              'gdr-nupes':'Gauche démocrate et républicaine - NUPES (GDR-NUPES)',\n",
    "              'lr':'Les Républicains (LR)',\n",
    "              'hor':'Horizons et apparentés (HOR)',\n",
    "              'rn':'Rassemblement National (RN)',\n",
    "              'ecolo':'Écologiste - NUPES (ECOLO)',\n",
    "              'liot':'Libertés, Indépendants, Outre-mer et Territoires (LIOT)',\n",
    "              're':'Renaissance (RE)'}\n",
    "\n",
    "dict_group_deputees = {'ni':7,\n",
    "                       'dem':50,\n",
    "                       'lfi-nupes':75,\n",
    "                       'soc-a':31,\n",
    "                       'gdr-nupes':22,\n",
    "                       'lr':61,\n",
    "                       'hor':31,\n",
    "                       'rn':88,\n",
    "                       'ecolo':21,\n",
    "                       'liot':22,\n",
    "                       're':169}\n",
    "\n",
    "dict_group_2024 = {'ni':None,\n",
    "                   'dem':'EN',\n",
    "                   'lfi-nupes':'FP',\n",
    "                   'soc-a':'FP',\n",
    "                   'gdr-nupes':'FP',\n",
    "                   'lr':'RN',\n",
    "                   'hor':'EN',\n",
    "                   'rn':'RN',\n",
    "                   'ecolo':'FP',\n",
    "                   'liot':None,\n",
    "                   're':'EN'}"
   ]
  },
  {
   "cell_type": "code",
   "execution_count": 8,
   "metadata": {
    "tags": []
   },
   "outputs": [],
   "source": [
    "if 'datan.csv' not in os.listdir(output_path):\n",
    "\n",
    "    # initilisation des colonnes du tableau de sortie\n",
    "    columns = {'vote':[],'date':[],'type':[],'dossier':[]}\n",
    "    for group in dict_group.keys():\n",
    "        columns['{}_nb-pour'.format(group)] = []\n",
    "        columns['{}_nb-contre'.format(group)] = []\n",
    "        columns['{}_nb-abstention'.format(group)] = []\n",
    "        columns['{}_participation'.format(group)] = []\n",
    "    \n",
    "    # construction du tableau\n",
    "    for vote in tqdm.tqdm(df_allvotes.index):\n",
    "        vote_infos = pd.read_html('https://datan.fr/votes/legislature-16/vote_{}'.format(vote))\n",
    "        df_desc, _, df_groups, df_deputees = vote_infos[:4]\n",
    "        \n",
    "        # formatage du tableau des votes de groupe\n",
    "        df_groups_formatted = df_groups.set_index('Groupe')\n",
    "        \n",
    "        # formatage du tableau descriptif du vote\n",
    "        df_desc_formatted = df_desc.T\n",
    "        df_desc_formatted = df_desc_formatted.rename(columns={i:n for i,n in enumerate(df_desc_formatted.iloc[1])})\n",
    "        df_desc_formatted\n",
    "        \n",
    "        # ajout de la date\n",
    "        try:\n",
    "            date = df_desc_formatted['Date'].values[-1]\n",
    "        except KeyError:\n",
    "            date = np.nan\n",
    "        \n",
    "        # ajout du type de vote \n",
    "        try:\n",
    "            type_vote = df_desc_formatted['Type de vote'].values[-1]\n",
    "        except KeyError:\n",
    "            type_vote = np.nan\n",
    "            \n",
    "        # ajout du dossier\n",
    "        try:\n",
    "            dossier = df_desc_formatted['Dossier'].values[-1]\n",
    "        except KeyError:\n",
    "            dossier = np.nan\n",
    "            \n",
    "        columns['vote'].append(vote)\n",
    "        columns['date'].append(date)\n",
    "        columns['type'].append(type_vote)\n",
    "        columns['dossier'].append(dossier)\n",
    "        \n",
    "        # ajout des statistiques de votes par groupe parlementaire\n",
    "        for group, group_name in dict_group.items():\n",
    "            filter_group = df_groups_formatted.index.str.startswith(group_name[:10])\n",
    "            df_group = df_groups_formatted.loc[filter_group]\n",
    "            nb_pour, nb_contre, nb_abstention, ratio_particip = df_group[['Pour','Contre','Abstention','Participation']].values[0]\n",
    "            ratio_particip = float(ratio_particip.replace('%',''))/100\n",
    "            \n",
    "            columns['{}_nb-pour'.format(group)].append(nb_pour)\n",
    "            columns['{}_nb-contre'.format(group)].append(nb_contre)\n",
    "            columns['{}_nb-abstention'.format(group)].append(nb_abstention)\n",
    "            columns['{}_participation'.format(group)].append(ratio_particip)\n",
    "\n",
    "    # sauvegarde\n",
    "    datan = pd.DataFrame().from_dict(columns)\n",
    "    datan.to_csv(os.path.join(output_path,'datan.csv'),index=False)"
   ]
  },
  {
   "cell_type": "markdown",
   "metadata": {},
   "source": [
    "### Ouverture et manipulation du jeu de données"
   ]
  },
  {
   "cell_type": "code",
   "execution_count": 9,
   "metadata": {
    "tags": []
   },
   "outputs": [],
   "source": [
    "datan = pd.read_csv(os.path.join(output_path,'datan.csv'))"
   ]
  },
  {
   "cell_type": "code",
   "execution_count": 10,
   "metadata": {
    "tags": []
   },
   "outputs": [],
   "source": [
    "# pas terminé\n",
    "dict_categories = {'Vieillesse et fin de vie':['Accompagnement des malades et fin de vie',\n",
    "                                              ],\n",
    "                   'Loi de finances':['Projet de loi de financement de la sécurité sociale pour 2024',\n",
    "                                      'Projet de loi de finances de fin de gestion pour 2023',\n",
    "                                      'Projet de loi de finances pour 2024',\n",
    "                                      'Programmation des finances publiques pour les années 2023 à 2027',\n",
    "                                      'Projet de loi de financement rectificative de la sécurité sociale pour 2023',\n",
    "                                      'Financement de la sécurité sociale pour 2023',\n",
    "                                      'Projet de loi de finances rectificative pour 2022',\n",
    "                                      'Projet de loi de finances pour 2023',\n",
    "                                      'Loi de finances rectificative pour 2022',\n",
    "                                      \"Approbation des comptes de la sécurité sociale pour l'année 2022\"],\n",
    "                   'Dématérialisation':[\"Proposition de loi visant à poursuivre la dématérialisation de l'état civil du ministère de l'Europe et des affaires étrangères\",],\n",
    "                   'Économie des entreprises':['Accroître le financement des entreprises et l’attractivité de la France',],\n",
    "                   'Fiscalité':['Charge fiscale de la pension alimentaire',\n",
    "                                'Assurer une justice patrimoniale au sein de la famille',],\n",
    "                   'Retraite':['Calculer la retraite de base des non-salariés agricoles en fonction de leurs seules vingt-cinq meilleures années de revenus'],\n",
    "                   'Union européenne':['Projet de loi portant diverses dispositions d’adaptation au droit de l’Union européenne en matière d’économie, de finances, de transition écologique, de droit pénal, de droit social et en matière agricole',\n",
    "                                      ],\n",
    "                   'Commerce international':[\"Accord commercial entre l'Union européenne et le Mercosur\",\n",
    "                                             'Accords entre la France et le Sénégal du 7 septembre 2021 et entre la France et le Sri Lanka du 23 février 2022'],\n",
    "                   'Nucléaire':['Projet de loi relatif à l’organisation de la gouvernance de la sûreté nucléaire et de la radioprotection pour répondre au défi de la relance de la filière nucléaire',],\n",
    "                   'Outre-mer':['Projet de loi ratifiant l’ordonnance n° 2023-285 du 19 avril 2023 portant extension et adaptation à la Polynésie française, à la Nouvelle-Calédonie et aux îles Wallis et Futuna de diverses dispositions législatives relatives à la santé',\n",
    "                                \"Projet de loi ratifiant l'ordonnance n° 2023-389 du 24 mai 2023 modifiant les dispositions du code général de la propriété des personnes publiques relatives à la Polynésie française\",\n",
    "                                'Projet de loi ratifiant les ordonnances relatives à la partie législative du livre VII du code monétaire et financier et portant diverses dispositions relatives à l’outre-mer',\n",
    "                                'Projet de loi ratifiant l’ordonnance n° 2021-1605 du 8 décembre 2021 étendant et adaptant à la fonction publique des communes de Polynésie française certaines dispositions statutaires relatives à la fonction publique territoriale'],\n",
    "                   'Service public':[\"Professionnaliser l'enseignement de la danse en tenant compte de la diversité des pratiques\",\n",
    "                                     'Pérenniser les jardins d’enfants gérés par une collectivité publique ou bénéficiant de financements publics',],\n",
    "                   'Santé':['Le dérapage du coût pour l’État de la couverture santé des étrangers en situation irrégulière et des demandeurs d’asile provenant de pays d’origine sûrs et au nombre d’étrangers en situation irrégulière',\n",
    "                            \"Mieux manger en soutenant les Français face à l'inflation et en favorisant l'accès à une alimentation saine\",\n",
    "                            \"Abrogation de l'obligation vaccinale contre la covid-19 dans les secteurs médicaux, paramédicaux et d'aide à la personne et visant à la réintégration des professionnels et étudiants suspendus\",\n",
    "                            'Amélioration de l’accès aux soins par la confiance aux professionnels de santé',\n",
    "                            \"Améliorer l'accès aux soins par l'engagement territorial des professionnels\",\n",
    "                            \"Améliorer l'accès aux soins par la territorialisation et la formation\",],\n",
    "                   'Finance':[\"Élargir l'assiette de la taxe sur les transactions financières\",\n",
    "                              'Compléter les dispositions applicables au Haut Conseil de stabilité financière'],\n",
    "                   'Éducation':['Faciliter la mobilité internationale des alternants pour un « Erasmus de l’apprentissage »'],\n",
    "                   'Droit':['Adapter le droit de la responsabilité civile aux enjeux actuels',\n",
    "                            'Allonger la durée de l’ordonnance de protection et à créer l’ordonnance provisoire de protection immédiate',\n",
    "                            \"Améliorant l'efficacité des dispositifs de saisie et de confiscation des avoirs criminels\",\n",
    "                            'Confidentialité des consultations des juristes d’entreprise'],\n",
    "                   'Écologie':['Appeler à un accord ambitieux lors de la quinzième conférence des parties à la convention sur la diversité biologique',\n",
    "                               \"Approbation du premier amendement et du protocole à la convention d'Espoo\"],\n",
    "                   'Culture':[\"Assurer la pérennité des établissements de spectacles cinématographiques et l'accès au cinéma dans les outre-mer\"],\n",
    "                   'Fraude fiscale':['Approbation des conventions entre la France et le Danemark et entre la France et la Grèce pour l’élimination de la double imposition en matière d’impôts sur le revenu et la prévention de l’évasion et de la fraude fiscales'],\n",
    "                   'Sécurité sociale':['Constitutionnaliser la sécurité sociale'],\n",
    "                  }\n",
    "\n",
    "\n",
    "datan_dossiers = set(datan.dossier.values)\n",
    "for l in dict_categories.values():\n",
    "    for dossier in l:\n",
    "        datan_dossiers.remove(dossier)\n"
   ]
  },
  {
   "cell_type": "code",
   "execution_count": 11,
   "metadata": {},
   "outputs": [
    {
     "data": {
      "text/html": [
       "<div>\n",
       "<style scoped>\n",
       "    .dataframe tbody tr th:only-of-type {\n",
       "        vertical-align: middle;\n",
       "    }\n",
       "\n",
       "    .dataframe tbody tr th {\n",
       "        vertical-align: top;\n",
       "    }\n",
       "\n",
       "    .dataframe thead th {\n",
       "        text-align: right;\n",
       "    }\n",
       "</style>\n",
       "<table border=\"1\" class=\"dataframe\">\n",
       "  <thead>\n",
       "    <tr style=\"text-align: right;\">\n",
       "      <th></th>\n",
       "      <th>vote</th>\n",
       "      <th>date</th>\n",
       "      <th>type</th>\n",
       "      <th>dossier</th>\n",
       "      <th>ni_nb-pour</th>\n",
       "      <th>ni_nb-contre</th>\n",
       "      <th>ni_nb-abstention</th>\n",
       "      <th>ni_participation</th>\n",
       "      <th>dem_nb-pour</th>\n",
       "      <th>dem_nb-contre</th>\n",
       "      <th>...</th>\n",
       "      <th>ecolo_nb-abstention</th>\n",
       "      <th>ecolo_participation</th>\n",
       "      <th>liot_nb-pour</th>\n",
       "      <th>liot_nb-contre</th>\n",
       "      <th>liot_nb-abstention</th>\n",
       "      <th>liot_participation</th>\n",
       "      <th>re_nb-pour</th>\n",
       "      <th>re_nb-contre</th>\n",
       "      <th>re_nb-abstention</th>\n",
       "      <th>re_participation</th>\n",
       "    </tr>\n",
       "  </thead>\n",
       "  <tbody>\n",
       "    <tr>\n",
       "      <th>771</th>\n",
       "      <td>3334</td>\n",
       "      <td>01 février 2024</td>\n",
       "      <td>Proposition de loi</td>\n",
       "      <td>Pérenniser les jardins d’enfants gérés par une...</td>\n",
       "      <td>0</td>\n",
       "      <td>0</td>\n",
       "      <td>0</td>\n",
       "      <td>0.0</td>\n",
       "      <td>0</td>\n",
       "      <td>4</td>\n",
       "      <td>...</td>\n",
       "      <td>0</td>\n",
       "      <td>0.17</td>\n",
       "      <td>1</td>\n",
       "      <td>0</td>\n",
       "      <td>0</td>\n",
       "      <td>0.05</td>\n",
       "      <td>12</td>\n",
       "      <td>0</td>\n",
       "      <td>0</td>\n",
       "      <td>0.07</td>\n",
       "    </tr>\n",
       "  </tbody>\n",
       "</table>\n",
       "<p>1 rows × 48 columns</p>\n",
       "</div>"
      ],
      "text/plain": [
       "     vote             date                type  \\\n",
       "771  3334  01 février 2024  Proposition de loi   \n",
       "\n",
       "                                               dossier  ni_nb-pour  \\\n",
       "771  Pérenniser les jardins d’enfants gérés par une...           0   \n",
       "\n",
       "     ni_nb-contre  ni_nb-abstention  ni_participation  dem_nb-pour  \\\n",
       "771             0                 0               0.0            0   \n",
       "\n",
       "     dem_nb-contre  ...  ecolo_nb-abstention  ecolo_participation  \\\n",
       "771              4  ...                    0                 0.17   \n",
       "\n",
       "     liot_nb-pour  liot_nb-contre  liot_nb-abstention  liot_participation  \\\n",
       "771             1               0                   0                0.05   \n",
       "\n",
       "     re_nb-pour  re_nb-contre  re_nb-abstention  re_participation  \n",
       "771          12             0                 0              0.07  \n",
       "\n",
       "[1 rows x 48 columns]"
      ]
     },
     "execution_count": 11,
     "metadata": {},
     "output_type": "execute_result"
    }
   ],
   "source": [
    "datan[datan.dossier=='Pérenniser les jardins d’enfants gérés par une collectivité publique ou bénéficiant de financements publics']"
   ]
  },
  {
   "cell_type": "markdown",
   "metadata": {},
   "source": [
    "### Étude des similitudes RN/ENSEMBLE"
   ]
  },
  {
   "cell_type": "code",
   "execution_count": 111,
   "metadata": {},
   "outputs": [
    {
     "name": "stderr",
     "output_type": "stream",
     "text": [
      "100%|█████████████████████████████████████████| 165/165 [00:13<00:00, 12.46it/s]\n"
     ]
    }
   ],
   "source": [
    "fig_path = os.path.join(output_path,'figs')\n",
    "Path(fig_path).mkdir(parents=True, exist_ok=True)\n",
    "\n",
    "fpcolor = tuple(e/255 for e in (193, 34, 72))\n",
    "fpcolor_dark = tuple(e/255 for e in (146, 34, 92))\n",
    "csfont = {'fontname':'Comic Sans MS'}\n",
    "\n",
    "for dossier in tqdm.tqdm(list(set(datan.dossier.values))):\n",
    "    if type(dossier)!=str:\n",
    "        continue\n",
    "        \n",
    "    df = datan[datan.dossier==dossier]\n",
    "    df = df[~df.type.isin(['Amendement'])]\n",
    "    \n",
    "    kept_columns = ['{}_nb-pour'.format(group) for group in dict_group.keys()]\n",
    "    kept_columns += ['{}_nb-contre'.format(group) for group in dict_group.keys()]\n",
    "    kept_columns += ['{}_nb-abstention'.format(group) for group in dict_group.keys()]\n",
    "    kept_columns += ['{}_participation'.format(group) for group in dict_group.keys()]\n",
    "    df = df[kept_columns]\n",
    "    df = df.mean()\n",
    "    \n",
    "    dict_group_votes = {'EN':{'pour':0,'contre':0,'abstention':0},\n",
    "                        'FP':{'pour':0,'contre':0,'abstention':0},\n",
    "                        'RN':{'pour':0,'contre':0,'abstention':0},}\n",
    "    dict_group_graphics = {'EN':(0.33,42/822),\n",
    "                           'FP':(0.66,42/296),\n",
    "                           'RN':(0.05,42/281),}\n",
    "    \n",
    "    for group in dict_group_2024.keys():\n",
    "        pour = df['{}_nb-pour'.format(group)]\n",
    "        contre = df['{}_nb-contre'.format(group)]\n",
    "        abstention = df['{}_nb-abstention'.format(group)]\n",
    "        \n",
    "        group_2024 = dict_group_2024.get(group)\n",
    "        if group_2024 is None:\n",
    "            continue\n",
    "            \n",
    "        dict_group_votes[group_2024]['pour'] += pour\n",
    "        dict_group_votes[group_2024]['contre'] += contre\n",
    "        dict_group_votes[group_2024]['abstention'] += abstention\n",
    "\n",
    "    dict_group_results = {g:max(dict_group_votes[g], key=dict_group_votes[g].get) for g in dict_group_votes.keys()}\n",
    "    \n",
    "    fig, (ax1,ax2) = plt.subplots(1,2,figsize=(6,3))\n",
    "\n",
    "    title_dossier = wrap(dossier,width=50)\n",
    "    nb_lines_title = len(title_dossier)\n",
    "    title_dossier = '\\n'.join(title_dossier)\n",
    "    fig.suptitle(title_dossier,y=0.98, color=fpcolor_dark, weight='bold')\n",
    "    \n",
    "    def make_space_above(fig,axes, topmargin=1):\n",
    "        \"\"\" increase figure size to make topmargin (in inches) space for \n",
    "            titles, without changing the axes sizes\"\"\"\n",
    "        s = fig.subplotpars\n",
    "        w, h = fig.get_size_inches()\n",
    "        figh = h - (1-s.top)*h  + topmargin\n",
    "        fig.subplots_adjust(bottom=s.bottom*h/figh, top=1-topmargin/figh)\n",
    "        fig.set_figheight(figh)\n",
    "\n",
    "    base_margin = 0.3\n",
    "    top_margin = base_margin+(1-base_margin)/4*nb_lines_title\n",
    "    make_space_above(fig,(ax1,ax2), topmargin=top_margin)   \n",
    "\n",
    "    ax1.text(0.5,0.978,'POUR',horizontalalignment='center', backgroundcolor='w', color=fpcolor, weight='bold')\n",
    "    ax2.text(0.5,0.978,'CONTRE',horizontalalignment='center', backgroundcolor='w', color=fpcolor, weight='bold')\n",
    "    \n",
    "    #ax1.axis(False)\n",
    "    #ax2.axis(False)\n",
    "    ax1.get_xaxis().set_ticks([])\n",
    "    ax1.get_yaxis().set_ticks([])\n",
    "    ax2.get_xaxis().set_ticks([])\n",
    "    ax2.get_yaxis().set_ticks([])\n",
    "\n",
    "    for ax in [ax1, ax2]:\n",
    "        plt.setp(ax.spines.values(), color=fpcolor)\n",
    "        plt.setp([ax.get_xticklines(), ax.get_yticklines()], color=fpcolor)\n",
    "\n",
    "    for g,v in dict_group_results.items():\n",
    "        if v == 'pour':\n",
    "            ax=ax1\n",
    "        elif v == 'contre':\n",
    "            ax=ax2\n",
    "        (height, zoom), logo_path = dict_group_graphics.get(g), os.path.join('input','logos','logo_{}.png'.format(g))\n",
    "        im = OffsetImage(plt.imread(logo_path), zoom=zoom)\n",
    "        ab = AnnotationBbox(im, (0.5, height), xycoords='axes fraction', frameon=False, box_alignment=(0.5,0))\n",
    "        ax.add_artist(ab)\n",
    "        \n",
    "    plt.savefig(os.path.join(fig_path,'{}.png'.format(dossier.replace(' ','_')[:90])),bbox_inches='tight')\n",
    "    plt.close()\n",
    "    "
   ]
  },
  {
   "cell_type": "code",
   "execution_count": null,
   "metadata": {},
   "outputs": [],
   "source": []
  }
 ],
 "metadata": {
  "kernelspec": {
   "display_name": "Python 3 (ipykernel)",
   "language": "python",
   "name": "python3"
  },
  "language_info": {
   "codemirror_mode": {
    "name": "ipython",
    "version": 3
   },
   "file_extension": ".py",
   "mimetype": "text/x-python",
   "name": "python",
   "nbconvert_exporter": "python",
   "pygments_lexer": "ipython3",
   "version": "3.12.3"
  }
 },
 "nbformat": 4,
 "nbformat_minor": 4
}
