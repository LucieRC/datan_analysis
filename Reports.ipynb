{
 "cells": [
  {
   "cell_type": "markdown",
   "id": "3e2948b7-c188-4803-94df-a14eae8df39b",
   "metadata": {},
   "source": [
    "# Projections de reports de votes\n",
    "\n",
    "<div style=\"text-align: right\"> André Mounier </div>\n",
    "\n",
    "---\n",
    "Étude des retraits de candidatures"
   ]
  },
  {
   "cell_type": "code",
   "execution_count": null,
   "id": "5a97e09b-fb20-4d0f-b7bf-ae0518c43aa8",
   "metadata": {},
   "outputs": [],
   "source": []
  }
 ],
 "metadata": {
  "kernelspec": {
   "display_name": "Python 3 (ipykernel)",
   "language": "python",
   "name": "python3"
  },
  "language_info": {
   "codemirror_mode": {
    "name": "ipython",
    "version": 3
   },
   "file_extension": ".py",
   "mimetype": "text/x-python",
   "name": "python",
   "nbconvert_exporter": "python",
   "pygments_lexer": "ipython3",
   "version": "3.12.3"
  }
 },
 "nbformat": 4,
 "nbformat_minor": 5
}
